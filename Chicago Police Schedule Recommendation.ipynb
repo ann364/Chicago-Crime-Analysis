{
 "cells": [
  {
   "cell_type": "markdown",
   "metadata": {},
   "source": [
    "<img src='https://cdn.wbez.org/image/f4d19da9e8d1baf914e6eb8e57beb0ce'>\n",
    "<h1><center> Chicago Police Schedule Recommendation </center></h1>\n",
    "\n",
    "## 1. DEFINE\n",
    "\n",
    "We want to look at recent crime data from Chicago metropolitian area and recommend police scheduling to reduce life threating crimes (assault,murders etc) in neighborhoods with high crimes rates or neighborhood with high murder rates.\n",
    "\n",
    "The crime data is from 2019 and collected is from [City of Chicago site](https://data.cityofchicago.org/Public-Safety/Crimes-2019/w98m-zvie)\n",
    "\n",
    "The recommendation will help predict heinous crimes based on several factors in different Chicago neighborhoods and help schedule Chicago police department staff officers so the chances of crimes are reduced."
   ]
  },
  {
   "cell_type": "code",
   "execution_count": 48,
   "metadata": {},
   "outputs": [],
   "source": [
    "import requests\n",
    "import pandas as pd\n",
    "import seaborn as sns\n",
    "import matplotlib.pyplot as plt\n",
    "from sklearn.cluster import AgglomerativeClustering\n",
    "from sklearn.preprocessing import LabelEncoder"
   ]
  },
  {
   "cell_type": "markdown",
   "metadata": {},
   "source": [
    "## 2. DISCOVER DATA"
   ]
  },
  {
   "cell_type": "code",
   "execution_count": 3,
   "metadata": {},
   "outputs": [
    {
     "name": "stdout",
     "output_type": "stream",
     "text": [
      "<class 'pandas.core.frame.DataFrame'>\n",
      "RangeIndex: 190722 entries, 0 to 190721\n",
      "Data columns (total 30 columns):\n",
      "ID                            190722 non-null int64\n",
      "Case Number                   190722 non-null object\n",
      "Date                          190722 non-null object\n",
      "Block                         190722 non-null object\n",
      "IUCR                          190722 non-null object\n",
      "Primary Type                  190722 non-null object\n",
      "Description                   190722 non-null object\n",
      "Location Description          190041 non-null object\n",
      "Arrest                        190722 non-null bool\n",
      "Domestic                      190722 non-null bool\n",
      "Beat                          190722 non-null int64\n",
      "District                      190722 non-null int64\n",
      "Ward                          190714 non-null float64\n",
      "Community Area                190720 non-null float64\n",
      "FBI Code                      190722 non-null object\n",
      "X Coordinate                  189603 non-null float64\n",
      "Y Coordinate                  189603 non-null float64\n",
      "Year                          190722 non-null int64\n",
      "Updated On                    190722 non-null object\n",
      "Latitude                      189603 non-null float64\n",
      "Longitude                     189603 non-null float64\n",
      "Location                      189603 non-null object\n",
      "Historical Wards 2003-2015    189007 non-null float64\n",
      "Zip Codes                     189603 non-null float64\n",
      "Community Areas               189087 non-null float64\n",
      "Census Tracts                 189113 non-null float64\n",
      "Wards                         189089 non-null float64\n",
      "Boundaries - ZIP Codes        189088 non-null float64\n",
      "Police Districts              189101 non-null float64\n",
      "Police Beats                  189101 non-null float64\n",
      "dtypes: bool(2), float64(14), int64(4), object(10)\n",
      "memory usage: 41.1+ MB\n"
     ]
    }
   ],
   "source": [
    "data = pd.read_csv('ChicagoCrime_2019.csv')\n",
    "data.info()"
   ]
  },
  {
   "cell_type": "code",
   "execution_count": 4,
   "metadata": {},
   "outputs": [
    {
     "data": {
      "text/html": [
       "<div>\n",
       "<style scoped>\n",
       "    .dataframe tbody tr th:only-of-type {\n",
       "        vertical-align: middle;\n",
       "    }\n",
       "\n",
       "    .dataframe tbody tr th {\n",
       "        vertical-align: top;\n",
       "    }\n",
       "\n",
       "    .dataframe thead th {\n",
       "        text-align: right;\n",
       "    }\n",
       "</style>\n",
       "<table border=\"1\" class=\"dataframe\">\n",
       "  <thead>\n",
       "    <tr style=\"text-align: right;\">\n",
       "      <th></th>\n",
       "      <th>ID</th>\n",
       "      <th>Case Number</th>\n",
       "      <th>Date</th>\n",
       "      <th>Block</th>\n",
       "      <th>IUCR</th>\n",
       "      <th>Primary Type</th>\n",
       "      <th>Description</th>\n",
       "      <th>Location Description</th>\n",
       "      <th>Arrest</th>\n",
       "      <th>Domestic</th>\n",
       "      <th>...</th>\n",
       "      <th>Longitude</th>\n",
       "      <th>Location</th>\n",
       "      <th>Historical Wards 2003-2015</th>\n",
       "      <th>Zip Codes</th>\n",
       "      <th>Community Areas</th>\n",
       "      <th>Census Tracts</th>\n",
       "      <th>Wards</th>\n",
       "      <th>Boundaries - ZIP Codes</th>\n",
       "      <th>Police Districts</th>\n",
       "      <th>Police Beats</th>\n",
       "    </tr>\n",
       "  </thead>\n",
       "  <tbody>\n",
       "    <tr>\n",
       "      <th>0</th>\n",
       "      <td>11839986</td>\n",
       "      <td>JC447394</td>\n",
       "      <td>09/24/2019 11:45:00 PM</td>\n",
       "      <td>002XX W 83RD ST</td>\n",
       "      <td>031A</td>\n",
       "      <td>ROBBERY</td>\n",
       "      <td>ARMED: HANDGUN</td>\n",
       "      <td>ATM (AUTOMATIC TELLER MACHINE)</td>\n",
       "      <td>False</td>\n",
       "      <td>False</td>\n",
       "      <td>...</td>\n",
       "      <td>-87.630906</td>\n",
       "      <td>(41.74355527, -87.630905732)</td>\n",
       "      <td>18.0</td>\n",
       "      <td>21554.0</td>\n",
       "      <td>40.0</td>\n",
       "      <td>1.0</td>\n",
       "      <td>13.0</td>\n",
       "      <td>59.0</td>\n",
       "      <td>20.0</td>\n",
       "      <td>236.0</td>\n",
       "    </tr>\n",
       "    <tr>\n",
       "      <th>1</th>\n",
       "      <td>11839904</td>\n",
       "      <td>JC447322</td>\n",
       "      <td>09/24/2019 11:43:00 PM</td>\n",
       "      <td>062XX S ARTESIAN AVE</td>\n",
       "      <td>051A</td>\n",
       "      <td>ASSAULT</td>\n",
       "      <td>AGGRAVATED: HANDGUN</td>\n",
       "      <td>STREET</td>\n",
       "      <td>False</td>\n",
       "      <td>False</td>\n",
       "      <td>...</td>\n",
       "      <td>-87.684888</td>\n",
       "      <td>(41.780294987, -87.684888472)</td>\n",
       "      <td>44.0</td>\n",
       "      <td>21867.0</td>\n",
       "      <td>64.0</td>\n",
       "      <td>111.0</td>\n",
       "      <td>2.0</td>\n",
       "      <td>58.0</td>\n",
       "      <td>13.0</td>\n",
       "      <td>274.0</td>\n",
       "    </tr>\n",
       "    <tr>\n",
       "      <th>2</th>\n",
       "      <td>11839889</td>\n",
       "      <td>JC447333</td>\n",
       "      <td>09/24/2019 11:38:00 PM</td>\n",
       "      <td>115XX S HALSTED ST</td>\n",
       "      <td>1330</td>\n",
       "      <td>CRIMINAL TRESPASS</td>\n",
       "      <td>TO LAND</td>\n",
       "      <td>GAS STATION</td>\n",
       "      <td>True</td>\n",
       "      <td>False</td>\n",
       "      <td>...</td>\n",
       "      <td>-87.642147</td>\n",
       "      <td>(41.684809877, -87.642147208)</td>\n",
       "      <td>45.0</td>\n",
       "      <td>22212.0</td>\n",
       "      <td>50.0</td>\n",
       "      <td>642.0</td>\n",
       "      <td>22.0</td>\n",
       "      <td>13.0</td>\n",
       "      <td>10.0</td>\n",
       "      <td>220.0</td>\n",
       "    </tr>\n",
       "    <tr>\n",
       "      <th>3</th>\n",
       "      <td>11839984</td>\n",
       "      <td>JC447321</td>\n",
       "      <td>09/24/2019 11:32:00 PM</td>\n",
       "      <td>048XX S SEELEY AVE</td>\n",
       "      <td>0420</td>\n",
       "      <td>BATTERY</td>\n",
       "      <td>AGGRAVATED:KNIFE/CUTTING INSTR</td>\n",
       "      <td>SIDEWALK</td>\n",
       "      <td>False</td>\n",
       "      <td>False</td>\n",
       "      <td>...</td>\n",
       "      <td>-87.675835</td>\n",
       "      <td>(41.805886147, -87.675834977)</td>\n",
       "      <td>29.0</td>\n",
       "      <td>14924.0</td>\n",
       "      <td>59.0</td>\n",
       "      <td>788.0</td>\n",
       "      <td>3.0</td>\n",
       "      <td>37.0</td>\n",
       "      <td>23.0</td>\n",
       "      <td>119.0</td>\n",
       "    </tr>\n",
       "    <tr>\n",
       "      <th>4</th>\n",
       "      <td>11840468</td>\n",
       "      <td>JC447973</td>\n",
       "      <td>09/24/2019 11:30:00 PM</td>\n",
       "      <td>022XX W WELLINGTON AVE</td>\n",
       "      <td>1310</td>\n",
       "      <td>CRIMINAL DAMAGE</td>\n",
       "      <td>TO PROPERTY</td>\n",
       "      <td>RESIDENTIAL YARD (FRONT/BACK)</td>\n",
       "      <td>False</td>\n",
       "      <td>False</td>\n",
       "      <td>...</td>\n",
       "      <td>-87.684116</td>\n",
       "      <td>(41.935859796, -87.684116209)</td>\n",
       "      <td>24.0</td>\n",
       "      <td>21538.0</td>\n",
       "      <td>46.0</td>\n",
       "      <td>110.0</td>\n",
       "      <td>40.0</td>\n",
       "      <td>39.0</td>\n",
       "      <td>5.0</td>\n",
       "      <td>172.0</td>\n",
       "    </tr>\n",
       "  </tbody>\n",
       "</table>\n",
       "<p>5 rows × 30 columns</p>\n",
       "</div>"
      ],
      "text/plain": [
       "         ID Case Number                    Date                   Block  IUCR  \\\n",
       "0  11839986    JC447394  09/24/2019 11:45:00 PM         002XX W 83RD ST  031A   \n",
       "1  11839904    JC447322  09/24/2019 11:43:00 PM    062XX S ARTESIAN AVE  051A   \n",
       "2  11839889    JC447333  09/24/2019 11:38:00 PM      115XX S HALSTED ST  1330   \n",
       "3  11839984    JC447321  09/24/2019 11:32:00 PM      048XX S SEELEY AVE  0420   \n",
       "4  11840468    JC447973  09/24/2019 11:30:00 PM  022XX W WELLINGTON AVE  1310   \n",
       "\n",
       "        Primary Type                     Description  \\\n",
       "0            ROBBERY                  ARMED: HANDGUN   \n",
       "1            ASSAULT             AGGRAVATED: HANDGUN   \n",
       "2  CRIMINAL TRESPASS                         TO LAND   \n",
       "3            BATTERY  AGGRAVATED:KNIFE/CUTTING INSTR   \n",
       "4    CRIMINAL DAMAGE                     TO PROPERTY   \n",
       "\n",
       "             Location Description  Arrest  Domestic  ...  Longitude  \\\n",
       "0  ATM (AUTOMATIC TELLER MACHINE)   False     False  ... -87.630906   \n",
       "1                          STREET   False     False  ... -87.684888   \n",
       "2                     GAS STATION    True     False  ... -87.642147   \n",
       "3                        SIDEWALK   False     False  ... -87.675835   \n",
       "4   RESIDENTIAL YARD (FRONT/BACK)   False     False  ... -87.684116   \n",
       "\n",
       "                        Location  Historical Wards 2003-2015  Zip Codes  \\\n",
       "0   (41.74355527, -87.630905732)                        18.0    21554.0   \n",
       "1  (41.780294987, -87.684888472)                        44.0    21867.0   \n",
       "2  (41.684809877, -87.642147208)                        45.0    22212.0   \n",
       "3  (41.805886147, -87.675834977)                        29.0    14924.0   \n",
       "4  (41.935859796, -87.684116209)                        24.0    21538.0   \n",
       "\n",
       "  Community Areas  Census Tracts  Wards  Boundaries - ZIP Codes  \\\n",
       "0            40.0            1.0   13.0                    59.0   \n",
       "1            64.0          111.0    2.0                    58.0   \n",
       "2            50.0          642.0   22.0                    13.0   \n",
       "3            59.0          788.0    3.0                    37.0   \n",
       "4            46.0          110.0   40.0                    39.0   \n",
       "\n",
       "  Police Districts  Police Beats  \n",
       "0             20.0         236.0  \n",
       "1             13.0         274.0  \n",
       "2             10.0         220.0  \n",
       "3             23.0         119.0  \n",
       "4              5.0         172.0  \n",
       "\n",
       "[5 rows x 30 columns]"
      ]
     },
     "execution_count": 4,
     "metadata": {},
     "output_type": "execute_result"
    }
   ],
   "source": [
    "# View the first five rows\n",
    "data.head()"
   ]
  },
  {
   "cell_type": "markdown",
   "metadata": {},
   "source": [
    "### Exploratory Data Analysis"
   ]
  },
  {
   "cell_type": "code",
   "execution_count": 5,
   "metadata": {},
   "outputs": [
    {
     "data": {
      "text/html": [
       "<div>\n",
       "<style scoped>\n",
       "    .dataframe tbody tr th:only-of-type {\n",
       "        vertical-align: middle;\n",
       "    }\n",
       "\n",
       "    .dataframe tbody tr th {\n",
       "        vertical-align: top;\n",
       "    }\n",
       "\n",
       "    .dataframe thead th {\n",
       "        text-align: right;\n",
       "    }\n",
       "</style>\n",
       "<table border=\"1\" class=\"dataframe\">\n",
       "  <thead>\n",
       "    <tr style=\"text-align: right;\">\n",
       "      <th></th>\n",
       "      <th>count</th>\n",
       "      <th>unique</th>\n",
       "      <th>top</th>\n",
       "      <th>freq</th>\n",
       "    </tr>\n",
       "  </thead>\n",
       "  <tbody>\n",
       "    <tr>\n",
       "      <th>ID</th>\n",
       "      <td>190722</td>\n",
       "      <td>190722</td>\n",
       "      <td>11796479</td>\n",
       "      <td>1</td>\n",
       "    </tr>\n",
       "    <tr>\n",
       "      <th>Case Number</th>\n",
       "      <td>190722</td>\n",
       "      <td>190706</td>\n",
       "      <td>JC438604</td>\n",
       "      <td>3</td>\n",
       "    </tr>\n",
       "    <tr>\n",
       "      <th>Date</th>\n",
       "      <td>190722</td>\n",
       "      <td>93251</td>\n",
       "      <td>01/01/2019 12:00:00 AM</td>\n",
       "      <td>56</td>\n",
       "    </tr>\n",
       "    <tr>\n",
       "      <th>Block</th>\n",
       "      <td>190722</td>\n",
       "      <td>26025</td>\n",
       "      <td>001XX N STATE ST</td>\n",
       "      <td>753</td>\n",
       "    </tr>\n",
       "    <tr>\n",
       "      <th>IUCR</th>\n",
       "      <td>190722</td>\n",
       "      <td>312</td>\n",
       "      <td>0486</td>\n",
       "      <td>17724</td>\n",
       "    </tr>\n",
       "    <tr>\n",
       "      <th>Primary Type</th>\n",
       "      <td>190722</td>\n",
       "      <td>31</td>\n",
       "      <td>THEFT</td>\n",
       "      <td>45264</td>\n",
       "    </tr>\n",
       "    <tr>\n",
       "      <th>Description</th>\n",
       "      <td>190722</td>\n",
       "      <td>291</td>\n",
       "      <td>SIMPLE</td>\n",
       "      <td>22973</td>\n",
       "    </tr>\n",
       "    <tr>\n",
       "      <th>Location Description</th>\n",
       "      <td>190041</td>\n",
       "      <td>122</td>\n",
       "      <td>STREET</td>\n",
       "      <td>42214</td>\n",
       "    </tr>\n",
       "    <tr>\n",
       "      <th>Arrest</th>\n",
       "      <td>190722</td>\n",
       "      <td>2</td>\n",
       "      <td>False</td>\n",
       "      <td>150433</td>\n",
       "    </tr>\n",
       "    <tr>\n",
       "      <th>Domestic</th>\n",
       "      <td>190722</td>\n",
       "      <td>2</td>\n",
       "      <td>False</td>\n",
       "      <td>158583</td>\n",
       "    </tr>\n",
       "    <tr>\n",
       "      <th>Beat</th>\n",
       "      <td>190722</td>\n",
       "      <td>274</td>\n",
       "      <td>1834</td>\n",
       "      <td>2416</td>\n",
       "    </tr>\n",
       "    <tr>\n",
       "      <th>District</th>\n",
       "      <td>190722</td>\n",
       "      <td>23</td>\n",
       "      <td>11</td>\n",
       "      <td>13756</td>\n",
       "    </tr>\n",
       "    <tr>\n",
       "      <th>Ward</th>\n",
       "      <td>190714</td>\n",
       "      <td>50</td>\n",
       "      <td>42</td>\n",
       "      <td>12291</td>\n",
       "    </tr>\n",
       "    <tr>\n",
       "      <th>Community Area</th>\n",
       "      <td>190720</td>\n",
       "      <td>78</td>\n",
       "      <td>25</td>\n",
       "      <td>10859</td>\n",
       "    </tr>\n",
       "    <tr>\n",
       "      <th>FBI Code</th>\n",
       "      <td>190722</td>\n",
       "      <td>26</td>\n",
       "      <td>06</td>\n",
       "      <td>45264</td>\n",
       "    </tr>\n",
       "    <tr>\n",
       "      <th>X Coordinate</th>\n",
       "      <td>189603</td>\n",
       "      <td>45834</td>\n",
       "      <td>1.17635e+06</td>\n",
       "      <td>461</td>\n",
       "    </tr>\n",
       "    <tr>\n",
       "      <th>Y Coordinate</th>\n",
       "      <td>189603</td>\n",
       "      <td>61629</td>\n",
       "      <td>1.90093e+06</td>\n",
       "      <td>331</td>\n",
       "    </tr>\n",
       "    <tr>\n",
       "      <th>Year</th>\n",
       "      <td>190722</td>\n",
       "      <td>1</td>\n",
       "      <td>2019</td>\n",
       "      <td>190722</td>\n",
       "    </tr>\n",
       "    <tr>\n",
       "      <th>Updated On</th>\n",
       "      <td>190722</td>\n",
       "      <td>507</td>\n",
       "      <td>06/30/2019 03:56:27 PM</td>\n",
       "      <td>25384</td>\n",
       "    </tr>\n",
       "    <tr>\n",
       "      <th>Latitude</th>\n",
       "      <td>189603</td>\n",
       "      <td>98773</td>\n",
       "      <td>41.8835</td>\n",
       "      <td>331</td>\n",
       "    </tr>\n",
       "    <tr>\n",
       "      <th>Longitude</th>\n",
       "      <td>189603</td>\n",
       "      <td>98758</td>\n",
       "      <td>-87.6279</td>\n",
       "      <td>331</td>\n",
       "    </tr>\n",
       "    <tr>\n",
       "      <th>Location</th>\n",
       "      <td>189603</td>\n",
       "      <td>98787</td>\n",
       "      <td>(41.883500187, -87.627876698)</td>\n",
       "      <td>331</td>\n",
       "    </tr>\n",
       "    <tr>\n",
       "      <th>Historical Wards 2003-2015</th>\n",
       "      <td>189007</td>\n",
       "      <td>52</td>\n",
       "      <td>22</td>\n",
       "      <td>12987</td>\n",
       "    </tr>\n",
       "    <tr>\n",
       "      <th>Zip Codes</th>\n",
       "      <td>189603</td>\n",
       "      <td>81</td>\n",
       "      <td>21554</td>\n",
       "      <td>9006</td>\n",
       "    </tr>\n",
       "    <tr>\n",
       "      <th>Community Areas</th>\n",
       "      <td>189087</td>\n",
       "      <td>77</td>\n",
       "      <td>26</td>\n",
       "      <td>10732</td>\n",
       "    </tr>\n",
       "    <tr>\n",
       "      <th>Census Tracts</th>\n",
       "      <td>189113</td>\n",
       "      <td>801</td>\n",
       "      <td>92</td>\n",
       "      <td>3431</td>\n",
       "    </tr>\n",
       "    <tr>\n",
       "      <th>Wards</th>\n",
       "      <td>189089</td>\n",
       "      <td>50</td>\n",
       "      <td>36</td>\n",
       "      <td>12350</td>\n",
       "    </tr>\n",
       "    <tr>\n",
       "      <th>Boundaries - ZIP Codes</th>\n",
       "      <td>189088</td>\n",
       "      <td>61</td>\n",
       "      <td>59</td>\n",
       "      <td>9254</td>\n",
       "    </tr>\n",
       "    <tr>\n",
       "      <th>Police Districts</th>\n",
       "      <td>189101</td>\n",
       "      <td>24</td>\n",
       "      <td>16</td>\n",
       "      <td>13753</td>\n",
       "    </tr>\n",
       "    <tr>\n",
       "      <th>Police Beats</th>\n",
       "      <td>189101</td>\n",
       "      <td>276</td>\n",
       "      <td>74</td>\n",
       "      <td>2349</td>\n",
       "    </tr>\n",
       "  </tbody>\n",
       "</table>\n",
       "</div>"
      ],
      "text/plain": [
       "                             count  unique                            top  \\\n",
       "ID                          190722  190722                       11796479   \n",
       "Case Number                 190722  190706                       JC438604   \n",
       "Date                        190722   93251         01/01/2019 12:00:00 AM   \n",
       "Block                       190722   26025               001XX N STATE ST   \n",
       "IUCR                        190722     312                           0486   \n",
       "Primary Type                190722      31                          THEFT   \n",
       "Description                 190722     291                         SIMPLE   \n",
       "Location Description        190041     122                         STREET   \n",
       "Arrest                      190722       2                          False   \n",
       "Domestic                    190722       2                          False   \n",
       "Beat                        190722     274                           1834   \n",
       "District                    190722      23                             11   \n",
       "Ward                        190714      50                             42   \n",
       "Community Area              190720      78                             25   \n",
       "FBI Code                    190722      26                             06   \n",
       "X Coordinate                189603   45834                    1.17635e+06   \n",
       "Y Coordinate                189603   61629                    1.90093e+06   \n",
       "Year                        190722       1                           2019   \n",
       "Updated On                  190722     507         06/30/2019 03:56:27 PM   \n",
       "Latitude                    189603   98773                        41.8835   \n",
       "Longitude                   189603   98758                       -87.6279   \n",
       "Location                    189603   98787  (41.883500187, -87.627876698)   \n",
       "Historical Wards 2003-2015  189007      52                             22   \n",
       "Zip Codes                   189603      81                          21554   \n",
       "Community Areas             189087      77                             26   \n",
       "Census Tracts               189113     801                             92   \n",
       "Wards                       189089      50                             36   \n",
       "Boundaries - ZIP Codes      189088      61                             59   \n",
       "Police Districts            189101      24                             16   \n",
       "Police Beats                189101     276                             74   \n",
       "\n",
       "                              freq  \n",
       "ID                               1  \n",
       "Case Number                      3  \n",
       "Date                            56  \n",
       "Block                          753  \n",
       "IUCR                         17724  \n",
       "Primary Type                 45264  \n",
       "Description                  22973  \n",
       "Location Description         42214  \n",
       "Arrest                      150433  \n",
       "Domestic                    158583  \n",
       "Beat                          2416  \n",
       "District                     13756  \n",
       "Ward                         12291  \n",
       "Community Area               10859  \n",
       "FBI Code                     45264  \n",
       "X Coordinate                   461  \n",
       "Y Coordinate                   331  \n",
       "Year                        190722  \n",
       "Updated On                   25384  \n",
       "Latitude                       331  \n",
       "Longitude                      331  \n",
       "Location                       331  \n",
       "Historical Wards 2003-2015   12987  \n",
       "Zip Codes                     9006  \n",
       "Community Areas              10732  \n",
       "Census Tracts                 3431  \n",
       "Wards                        12350  \n",
       "Boundaries - ZIP Codes        9254  \n",
       "Police Districts             13753  \n",
       "Police Beats                  2349  "
      ]
     },
     "execution_count": 5,
     "metadata": {},
     "output_type": "execute_result"
    }
   ],
   "source": [
    "data.astype('object').describe().transpose()"
   ]
  },
  {
   "cell_type": "markdown",
   "metadata": {},
   "source": [
    "At a glance, we can see that:\n",
    "* There were 56 crimes that happened on midnight of Jan 1. \n",
    "* 753 crimes were reported from Block of 001XX N STATE ST \n",
    "* 160K crimes were domestic out of 190K entries\n",
    "* Location (41.883500187, -87.627876698) had 331 crimes reported. This is the heart of Chicago downtown\n",
    "\n",
    "**Removing columns that are not used**\n",
    "* ID, Case Number are unique\n",
    "* Year is always 2019\n",
    "* X Coordinate and Y Coordinate, Location are similar as other column Latitude Longitude\n",
    "* Updated On might not be helpful to use"
   ]
  },
  {
   "cell_type": "code",
   "execution_count": 6,
   "metadata": {},
   "outputs": [],
   "source": [
    "#Removing Columns that are not used\n",
    "cols = ['ID','Case Number','Year','Updated On', 'X Coordinate', 'Y Coordinate'\n",
    "        , 'Location', 'Historical Wards 2003-2015', 'Census Tracts','Boundaries - ZIP Codes','Wards', 'Community Areas'\n",
    "        , 'Police Beats', 'Police Districts']\n",
    "data2=data.drop(cols,axis=1)"
   ]
  },
  {
   "cell_type": "code",
   "execution_count": 7,
   "metadata": {},
   "outputs": [
    {
     "data": {
      "text/plain": [
       "Date                       0\n",
       "Block                      0\n",
       "IUCR                       0\n",
       "Primary Type               0\n",
       "Description                0\n",
       "Location Description     681\n",
       "Arrest                     0\n",
       "Domestic                   0\n",
       "Beat                       0\n",
       "District                   0\n",
       "Ward                       8\n",
       "Community Area             2\n",
       "FBI Code                   0\n",
       "Latitude                1119\n",
       "Longitude               1119\n",
       "Zip Codes               1119\n",
       "dtype: int64"
      ]
     },
     "execution_count": 7,
     "metadata": {},
     "output_type": "execute_result"
    }
   ],
   "source": [
    "##Seeing Null Values\n",
    "data2.isnull().sum()"
   ]
  },
  {
   "cell_type": "code",
   "execution_count": 8,
   "metadata": {},
   "outputs": [
    {
     "data": {
      "text/plain": [
       "<matplotlib.axes._subplots.AxesSubplot at 0x25a17726eb8>"
      ]
     },
     "execution_count": 8,
     "metadata": {},
     "output_type": "execute_result"
    },
    {
     "data": {
      "image/png": "[encoded data removed]",
      "text/plain": [
       "<Figure size 648x432 with 2 Axes>"
      ]
     },
     "metadata": {
      "needs_background": "light"
     },
     "output_type": "display_data"
    }
   ],
   "source": [
    "corr = data2.corr()\n",
    "f, ax = plt.subplots(figsize=(9, 6))\n",
    "sns.heatmap(round(corr,2), annot =True,linewidths=.5, ax=ax)"
   ]
  },
  {
   "cell_type": "markdown",
   "metadata": {},
   "source": [
    "**Arrests in 2019:**\n",
    "\n",
    "There are *40,289* aressts in 2019."
   ]
  },
  {
   "cell_type": "code",
   "execution_count": 9,
   "metadata": {},
   "outputs": [
    {
     "data": {
      "image/png": "[encoded data removed]",
      "text/plain": [
       "<Figure size 432x288 with 1 Axes>"
      ]
     },
     "metadata": {
      "needs_background": "light"
     },
     "output_type": "display_data"
    }
   ],
   "source": [
    "sns.countplot(x='Arrest',data=data2, palette='hls')\n",
    "arrests = sns.countplot(x=\"Arrest\", data=data2, palette='hls')\n",
    "\n",
    "for p in arrests.patches:\n",
    "        arrests.annotate('{:d}'.format(p.get_height()), (p.get_x()+0.1, p.get_height()))"
   ]
  },
  {
   "cell_type": "markdown",
   "metadata": {},
   "source": [
    "**Arrests vs Domestic/Non Domestic**\n",
    "\n",
    "Out of *40,289* arrests more than 90% of them are non-domestic and rest is domestic"
   ]
  },
  {
   "cell_type": "code",
   "execution_count": 10,
   "metadata": {},
   "outputs": [
    {
     "data": {
      "image/png": "[encoded data removed]",
      "text/plain": [
       "<Figure size 432x288 with 1 Axes>"
      ]
     },
     "metadata": {
      "needs_background": "light"
     },
     "output_type": "display_data"
    }
   ],
   "source": [
    "arrests_domestic = sns.countplot(x=\"Arrest\", hue=\"Domestic\", data=data2, palette='Paired')\n",
    "for p in arrests_domestic.patches:\n",
    "    arrests_domestic.text(p.get_x()+p.get_width()/2.,\n",
    "             p.get_height()+3,\n",
    "            '{:d}'.format(p.get_height()),\n",
    "            ha=\"center\") "
   ]
  },
  {
   "cell_type": "markdown",
   "metadata": {},
   "source": [
    "**Districts with most crimes:**\n",
    "\n",
    "District 11, 6, 8, 1, 18, 4, 7, 12 have highest crime rates"
   ]
  },
  {
   "cell_type": "code",
   "execution_count": 78,
   "metadata": {},
   "outputs": [
    {
     "data": {
      "text/plain": [
       "Int64Index([11, 6, 8, 1, 18], dtype='int64')"
      ]
     },
     "execution_count": 78,
     "metadata": {},
     "output_type": "execute_result"
    }
   ],
   "source": [
    "districts_highcrime = data2['District'].value_counts().head().index\n",
    "districts_highcrime"
   ]
  },
  {
   "cell_type": "code",
   "execution_count": 80,
   "metadata": {},
   "outputs": [
    {
     "data": {
      "image/png": "[encoded data removed]",
      "text/plain": [
       "<Figure size 648x432 with 1 Axes>"
      ]
     },
     "metadata": {
      "needs_background": "light"
     },
     "output_type": "display_data"
    }
   ],
   "source": [
    "plt.subplots(figsize=(9, 6))\n",
    "district_crimes_plot = sns.countplot(y=\"District\", data=data2,\n",
    "            order=data2['District'].value_counts().index,palette='BuGn_r')\n",
    "total = len(data2['District'])\n",
    "for p in district_crimes_plot.patches:\n",
    "        percentage = '{:.1f}%'.format(100 * p.get_width()/total)\n",
    "        x = p.get_x() + p.get_width() + 0.02\n",
    "        y = p.get_y() + p.get_height()/2\n",
    "        district_crimes_plot.annotate(percentage, (x, y))\n",
    "district_crimes_plot.set_title('Chicago District Crime Distribution ')\n",
    "plt.show()"
   ]
  },
  {
   "cell_type": "markdown",
   "metadata": {},
   "source": [
    "**Finding Aggravated Crimes:**\n",
    "The goal of this project is to predict and potentially reduce heinous crimes that causes bodily/life harm.\n",
    "List of crime types can be reference in this website: http://gis.chicagopolice.org/clearmap_crime_sums/crime_types.html\n",
    "The crime type are displayed as codes in the field called FBI_CODE in the dataset."
   ]
  },
  {
   "cell_type": "code",
   "execution_count": 81,
   "metadata": {},
   "outputs": [
    {
     "name": "stdout",
     "output_type": "stream",
     "text": [
      "01A 01B 02 03 04A 04B 05 06 07 08A 08B 09 10 11 12 13 14 15 16 17 18 19 20 22 24 26 "
     ]
    }
   ],
   "source": [
    "for x in sorted(data2['FBI Code'].unique()):\n",
    "    print (x, end=' '),"
   ]
  },
  {
   "cell_type": "markdown",
   "metadata": {},
   "source": [
    "Few FBI codes that corresponds to aggravated crimes are:\n",
    "* 01A : Homicide 1st and 2nd Degree\n",
    "* 01B : Involuntary Manslaughter\n",
    "* 02   : Criminal Sexual Assault\n",
    "* 04A : Aggravated Assault\n",
    "* 04B : Aggravated Battery\n",
    "* 08A : Simple Assault\n",
    "* 08B : Simple Battery\n",
    "\n",
    "Above crime types could lead to death or bodiy harm of human beings. The goal of police department has been to reduce such kind of crimes."
   ]
  },
  {
   "cell_type": "code",
   "execution_count": 82,
   "metadata": {},
   "outputs": [],
   "source": [
    "fbi_code_aggravated = ['01A','01B','02','04A','04B','08A','08B']"
   ]
  },
  {
   "cell_type": "markdown",
   "metadata": {},
   "source": [
    "* Use Cluster analysis to find which district has more of such crimes\n",
    "* Use logistic regression  to predict if aggravated crimes will occur or not. \n",
    "* For logistic, Create another field called Aggravated and train the model. Use other factors like date and time\n",
    "* Use decision tree/ random forest\n",
    "* Use time series Analysis\n",
    "\n",
    "There  are more occurance of theft (fbi_code =06) in all districts. \n",
    "http://gis.chicagopolice.org/clearmap_crime_sums/crime_types.html\n",
    "District 1,6,10,11,12 had most crimes in Chicago. Among all incidents in district 11, drug abuse (fbi_code=18) was the highest followed by bodily harm (fbi_code=08B). Most crime in district 10 was bodily harm. \n",
    "Police departments accross Chicago has been fighting to reduce all kinds of crime. But their main goal is to reduce homicide, assault and battery and criminal sexual abuse. \n",
    "Based on this goal. The goal is to predict above crimes and assist police departments in respective districts to deploy police for standby\n",
    "https://www.govtech.com/public-safety/Chicago-Police-Cut-Crime-with-Major-Upgrades-to-Analytics-and-Field-Technology.html\n",
    "\n",
    "\n",
    "\n",
    "**Cluster Analysis of Crime Type vs Districts**\n",
    "\n",
    "Let focus on top 5 crime districts and getting aggravated crimes:"
   ]
  },
  {
   "cell_type": "code",
   "execution_count": 83,
   "metadata": {},
   "outputs": [
    {
     "data": {
      "text/html": [
       "<div>\n",
       "<style scoped>\n",
       "    .dataframe tbody tr th:only-of-type {\n",
       "        vertical-align: middle;\n",
       "    }\n",
       "\n",
       "    .dataframe tbody tr th {\n",
       "        vertical-align: top;\n",
       "    }\n",
       "\n",
       "    .dataframe thead th {\n",
       "        text-align: right;\n",
       "    }\n",
       "</style>\n",
       "<table border=\"1\" class=\"dataframe\">\n",
       "  <thead>\n",
       "    <tr style=\"text-align: right;\">\n",
       "      <th></th>\n",
       "      <th>FBI Code</th>\n",
       "      <th>District</th>\n",
       "    </tr>\n",
       "  </thead>\n",
       "  <tbody>\n",
       "    <tr>\n",
       "      <th>1</th>\n",
       "      <td>04A</td>\n",
       "      <td>8</td>\n",
       "    </tr>\n",
       "    <tr>\n",
       "      <th>6</th>\n",
       "      <td>08B</td>\n",
       "      <td>8</td>\n",
       "    </tr>\n",
       "    <tr>\n",
       "      <th>9</th>\n",
       "      <td>08B</td>\n",
       "      <td>6</td>\n",
       "    </tr>\n",
       "    <tr>\n",
       "      <th>10</th>\n",
       "      <td>08B</td>\n",
       "      <td>1</td>\n",
       "    </tr>\n",
       "    <tr>\n",
       "      <th>15</th>\n",
       "      <td>04A</td>\n",
       "      <td>8</td>\n",
       "    </tr>\n",
       "  </tbody>\n",
       "</table>\n",
       "</div>"
      ],
      "text/plain": [
       "   FBI Code  District\n",
       "1       04A         8\n",
       "6       08B         8\n",
       "9       08B         6\n",
       "10      08B         1\n",
       "15      04A         8"
      ]
     },
     "execution_count": 83,
     "metadata": {},
     "output_type": "execute_result"
    }
   ],
   "source": [
    "# Getting Aggravated crimes in top 5 crime districts\n",
    "crime = data2[['FBI Code', 'District']]\n",
    "district_crime = crime[(crime['District'].isin(districts_highcrime)) & (crime['FBI Code'].isin(fbi_code_aggravated))]\n",
    "district_crime.head()"
   ]
  },
  {
   "cell_type": "code",
   "execution_count": 94,
   "metadata": {},
   "outputs": [
    {
     "data": {
      "text/plain": [
       "<seaborn.axisgrid.FacetGrid at 0x25a23056f98>"
      ]
     },
     "execution_count": 94,
     "metadata": {},
     "output_type": "execute_result"
    },
    {
     "data": {
      "image/png": "[encoded data removed]",
      "text/plain": [
       "<Figure size 1800x360 with 5 Axes>"
      ]
     },
     "metadata": {
      "needs_background": "light"
     },
     "output_type": "display_data"
    }
   ],
   "source": [
    "fig=sns.catplot(col=\"District\", x=\"FBI Code\", data=district_crime, kind=\"count\",col_wrap=5);\n",
    "fig.set_axis_labels('FBI Code', 'Values')"
   ]
  },
  {
   "cell_type": "markdown",
   "metadata": {},
   "source": [
    "* District 6 has the highest cases of\n",
    "    * 04A -Aggravate battery,\n",
    "    * 08B - Simple Battery and\n",
    "    * highest 08A - Simple Assault \n",
    "    \n",
    "    \n",
    "* District 11 (highest crime district 2019) has the highest cases of \n",
    "    * 04B Aggravated Batter \n",
    "    * 01A Homicide 1st and 2nd degree\n",
    "    \n",
    "    \n",
    "* District 11 and 18 has high cases of\n",
    "    * 02 Criminal Sexual Assault"
   ]
  },
  {
   "cell_type": "code",
   "execution_count": null,
   "metadata": {},
   "outputs": [],
   "source": []
  }
 ],
 "metadata": {
  "kernelspec": {
   "display_name": "Python 3",
   "language": "python",
   "name": "python3"
  },
  "language_info": {
   "codemirror_mode": {
    "name": "ipython",
    "version": 3
   },
   "file_extension": ".py",
   "mimetype": "text/x-python",
   "name": "python",
   "nbconvert_exporter": "python",
   "pygments_lexer": "ipython3",
   "version": "3.7.3"
  }
 },
 "nbformat": 4,
 "nbformat_minor": 2
}
